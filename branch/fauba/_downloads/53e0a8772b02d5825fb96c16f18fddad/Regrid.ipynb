{
  "cells": [
    {
      "cell_type": "markdown",
      "id": "2d857022",
      "metadata": {
        "id": "2d857022"
      },
      "source": [
        "# Interpolación a retícula regular"
      ]
    },
    {
      "cell_type": "markdown",
      "id": "138fa71b",
      "metadata": {
        "id": "138fa71b"
      },
      "source": [
        "En esta notebook mostramos cómo transformar los datos que se encuentran en la proyección Conforme de Lambert a una proyección cilíndrica de modo que queden en una retícula regular.<br />\n",
        "*We  show an example of how to transform a dataset that is in a Lambert conformal projection to a regular grid (equirectangular projection).*"
      ]
    },
    {
      "cell_type": "code",
      "execution_count": 2,
      "id": "f6bd0056",
      "metadata": {
        "id": "f6bd0056"
      },
      "outputs": [],
      "source": [
        "# Importamos las librerías necesarias\n",
        "# We import the necesssary libraries\n",
        "import xarray as xr\n",
        "import h5netcdf\n",
        "import datetime\n",
        "import xesmf as xe \n",
        "# Importante: La librería xesmf tiene problemas para instarla en una notebook de Google Colab \n",
        "# Important: The xesmf library has problems when installing it on a Google Colab notebook."
      ]
    },
    {
      "cell_type": "markdown",
      "id": "47b460d9",
      "metadata": {
        "id": "47b460d9"
      },
      "source": [
        "Definimos la fecha de inicialización y el plazo de pronóstico a interpolar:<br />\n",
        "*We define the forecast initialization date and the desired forecast lead time:*\n"
      ]
    },
    {
      "cell_type": "code",
      "execution_count": 3,
      "id": "3ace92d0",
      "metadata": {
        "id": "3ace92d0"
      },
      "outputs": [],
      "source": [
        "init_year = 2022\n",
        "init_month = 4\n",
        "init_day = 1\n",
        "init_hour = 0\n",
        "INIT_DATE = datetime.datetime(init_year, init_month, init_day, init_hour)\n",
        "\n",
        "lead_time = 12"
      ]
    },
    {
      "cell_type": "markdown",
      "id": "243b48fe",
      "metadata": {
        "id": "243b48fe"
      },
      "source": [
        "Leemos el archivo que posee el dato buscado:<br />\n",
        "*We read the file containing the information we are looking for:*"
      ]
    },
    {
      "cell_type": "code",
      "execution_count": 7,
      "id": "cc21a1dc",
      "metadata": {
        "id": "cc21a1dc"
      },
      "outputs": [],
      "source": [
        "# Opción 1: Para acceder a los archivos online\n",
        "# Option 1: To access files online\n",
        "#import s3fs\n",
        "#s3_file = f'smn-ar-wrf/DATA/WRF/DET/{START_DATE:%Y/%m/%d/%H}/WRFDETAR_01H_{START_DATE:%Y%m%d_%H}_{leadtime:03d}.nc'\n",
        "\n",
        "#fs = s3fs.S3FileSystem(anon=True)\n",
        "\n",
        "#if fs.exists(s3_file):\n",
        "#    f = fs.open(s3_file)\n",
        "#    ds = xr.open_dataset(f, decode_coords = 'all', engine = 'h5netcdf')\n",
        "#else:\n",
        "#    print('The file does not exist')\n",
        "\n",
        "# Opción 2: Para abrir un archivo ya descargado\n",
        "# Option 2: To open an already downloaded file\n",
        "filename = 'WRFDETAR_01H_{:%Y%m%d_%H}_{:03d}.nc'.format(INIT_DATE,lead_time)\n",
        "ds = xr.open_dataset(filename, decode_coords = 'all', engine = 'h5netcdf')"
      ]
    },
    {
      "cell_type": "markdown",
      "id": "69efd6c5",
      "metadata": {
        "id": "69efd6c5"
      },
      "source": [
        "Definimos la nueva retícula a la que se quiere interpolar:<br />\n",
        "*We define the target regular grid:*"
      ]
    },
    {
      "cell_type": "code",
      "execution_count": 8,
      "id": "35dcf23f",
      "metadata": {
        "id": "35dcf23f"
      },
      "outputs": [],
      "source": [
        "resolution_lat = 0.1\n",
        "resolution_lon = 0.1\n",
        "lat_min = -56\n",
        "lat_max = -19\n",
        "lon_min = -76\n",
        "lon_max = -48\n",
        "\n",
        "new_grid = xe.util.grid_2d(lon_min - resolution_lon/2, lon_max, resolution_lon, \n",
        "                           lat_min - resolution_lat/2, lat_max, resolution_lat)\n"
      ]
    },
    {
      "cell_type": "markdown",
      "id": "f5bad046",
      "metadata": {
        "id": "f5bad046"
      },
      "source": [
        "Realizamos la interpolación:<br />\n",
        "*We performe the interpolation:*"
      ]
    },
    {
      "cell_type": "code",
      "execution_count": 11,
      "id": "cdbdfa57",
      "metadata": {
        "id": "cdbdfa57",
        "colab": {
          "base_uri": "https://localhost:8080/"
        },
        "outputId": "af4c62e0-5214-4d14-e328-da42333ed569"
      },
      "outputs": [
        {
          "output_type": "stream",
          "name": "stdout",
          "text": [
            "<xarray.Dataset>\n",
            "Dimensions:            (time: 1, y: 371, x: 281)\n",
            "Coordinates:\n",
            "    Lambert_Conformal  float32 ...\n",
            "  * time               (time) datetime64[ns] 2022-04-01T12:00:00\n",
            "    lat                (y, x) float64 -56.0 -56.0 -56.0 ... -19.0 -19.0 -19.0\n",
            "    lon                (y, x) float64 -76.0 -75.9 -75.8 ... -48.2 -48.1 -48.0\n",
            "Dimensions without coordinates: y, x\n",
            "Data variables:\n",
            "    PP                 (time, y, x) float32 0.001074 0.001887 ... 0.0 0.0\n",
            "    T2                 (time, y, x) float32 5.486 5.433 5.269 ... 22.96 23.02\n",
            "    HR2                (time, y, x) float32 85.47 86.79 87.88 ... 66.78 68.96\n",
            "    dirViento10        (time, y, x) float32 290.7 290.4 289.0 ... 119.4 144.1\n",
            "    magViento10        (time, y, x) float32 12.31 11.37 10.67 ... 4.247 2.574\n",
            "Attributes: (12/20)\n",
            "    title:          Python PostProcessing for SMN WRF-ARW Deterministic SFC\n",
            "    institution:    Servicio Meteorologico Nacional\n",
            "    source:          OUTPUT FROM WRF V4.0 MODEL\n",
            "    start_lat:      -54.386837\n",
            "    start_lon:      -94.33081\n",
            "    end_lat:        -11.645958\n",
            "    ...             ...\n",
            "    DX:             4000.0\n",
            "    DY:             4000.0\n",
            "    START_DATE:     2022-04-01_00:00:00\n",
            "    Conventions:    CF-1.8\n",
            "    NCO:            netCDF Operators version 4.7.5 (Homepage = http://nco.sf....\n",
            "    regrid_method:  bilinear\n"
          ]
        }
      ],
      "source": [
        "regridder = xe.Regridder(ds, new_grid, 'bilinear')\n",
        "ds_interpolated = regridder(ds, keep_attrs = True)\n",
        "print(ds_interpolated)"
      ]
    }
  ],
  "metadata": {
    "kernelspec": {
      "display_name": "Python 3 (ipykernel)",
      "language": "python",
      "name": "python3"
    },
    "language_info": {
      "codemirror_mode": {
        "name": "ipython",
        "version": 3
      },
      "file_extension": ".py",
      "mimetype": "text/x-python",
      "name": "python",
      "nbconvert_exporter": "python",
      "pygments_lexer": "ipython3",
      "version": "3.9.11"
    },
    "colab": {
      "provenance": [],
      "collapsed_sections": []
    }
  },
  "nbformat": 4,
  "nbformat_minor": 5
}